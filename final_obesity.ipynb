{
  "cells": [
    {
      "cell_type": "code",
      "execution_count": 1,
      "metadata": {
        "colab": {
          "base_uri": "https://localhost:8080/"
        },
        "id": "ClDa7DRZrgFM",
        "outputId": "ddaf77e6-e02c-4cef-98f0-0c83fbdccd43"
      },
      "outputs": [
        {
          "name": "stdout",
          "output_type": "stream",
          "text": [
            "Accuracy: 1.00\n"
          ]
        },
        {
          "data": {
            "text/plain": [
              "['decision_tree_model.pkl']"
            ]
          },
          "execution_count": 1,
          "metadata": {},
          "output_type": "execute_result"
        }
      ],
      "source": [
        "import pandas as pd\n",
        "from sklearn.model_selection import train_test_split\n",
        "from sklearn.tree import DecisionTreeClassifier\n",
        "from sklearn.preprocessing import OneHotEncoder, StandardScaler\n",
        "from sklearn.compose import ColumnTransformer\n",
        "from sklearn.pipeline import Pipeline\n",
        "from sklearn.metrics import accuracy_score\n",
        "import joblib\n",
        "\n",
        "# Load the dataset\n",
        "file_path = 'final_obesity.csv'\n",
        "data = pd.read_csv(file_path)\n",
        "\n",
        "# Drop the 'id' column\n",
        "data = data.drop(columns=['id'])\n",
        "\n",
        "# Strip leading/trailing spaces from categorical columns\n",
        "data['Zone'] = data['Zone'].str.strip()\n",
        "data['Gender'] = data['Gender'].str.strip()\n",
        "\n",
        "# Calculate BMI using the standard formula\n",
        "data['Height_m'] = data['Height'] / 100  # Convert height from cm to meters\n",
        "data['Bmi_calculated'] = data['Weight'] / (data['Height_m'] ** 2)\n",
        "\n",
        "# Define features and target variable\n",
        "X = data.drop(columns=['BmiWcRiskScore', 'Bmi', 'Height_m', 'Dailyphysicalactivity','Moderatephysicalactivity', 'Vigorousphysicalactivity'])\n",
        "y = data['BmiWcRiskScore']\n",
        "\n",
        "# Identify categorical features for one-hot encoding\n",
        "categorical_features = ['Zone', 'Gender']\n",
        "\n",
        "# Define the possible categories for each categorical feature based on the dataset\n",
        "zone_categories = sorted(data['Zone'].unique())\n",
        "gender_categories = sorted(data['Gender'].unique())\n",
        "\n",
        "\n",
        "# Define the column transformer\n",
        "preprocessor = ColumnTransformer(\n",
        "    transformers=[\n",
        "        ('cat', OneHotEncoder(categories=[zone_categories, gender_categories]), categorical_features),\n",
        "        ('num', StandardScaler(), ['Age', 'Waist', 'Weight', 'Bmi_calculated'])\n",
        "    ],\n",
        "    remainder='passthrough'\n",
        ")\n",
        "\n",
        "# Initialize the Decision Tree model\n",
        "model = DecisionTreeClassifier(random_state=42)\n",
        "\n",
        "# Create a pipeline that first transforms the data and then fits the model\n",
        "clf = Pipeline(steps=[\n",
        "    ('preprocessor', preprocessor),\n",
        "    ('classifier', model)\n",
        "])\n",
        "\n",
        "# Split the data into training and test sets\n",
        "X_train, X_test, y_train, y_test = train_test_split(X, y, test_size=0.2, random_state=42)\n",
        "\n",
        "# Train the model\n",
        "clf.fit(X_train, y_train)\n",
        "\n",
        "# Evaluate the model\n",
        "y_pred = clf.predict(X_test)\n",
        "accuracy = accuracy_score(y_test, y_pred)\n",
        "print(f\"Accuracy: {accuracy:.2f}\")\n",
        "\n",
        "# Save the model\n",
        "joblib.dump(clf, 'decision_tree_model.pkl')\n",
        "\n",
        "\n"
      ]
    }
  ],
  "metadata": {
    "colab": {
      "provenance": []
    },
    "kernelspec": {
      "display_name": "Python 3",
      "name": "python3"
    },
    "language_info": {
      "codemirror_mode": {
        "name": "ipython",
        "version": 3
      },
      "file_extension": ".py",
      "mimetype": "text/x-python",
      "name": "python",
      "nbconvert_exporter": "python",
      "pygments_lexer": "ipython3",
      "version": "3.12.2"
    }
  },
  "nbformat": 4,
  "nbformat_minor": 0
}
